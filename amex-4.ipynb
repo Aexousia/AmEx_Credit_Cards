{
 "cells": [
  {
   "cell_type": "code",
   "execution_count": 1,
   "metadata": {},
   "outputs": [],
   "source": [
    "import pandas as pd\n",
    "import numpy as np\n",
    "import seaborn as sns"
   ]
  },
  {
   "cell_type": "code",
   "execution_count": 2,
   "metadata": {},
   "outputs": [],
   "source": [
    "import sklearn\n",
    "from sklearn.model_selection import KFold\n",
    "from sklearn.preprocessing import MinMaxScaler\n",
    "from sklearn.svm import SVR\n",
    "import seaborn as sns\n",
    "from sklearn.model_selection import train_test_split\n",
    "from sklearn.ensemble import RandomForestClassifier\n",
    "from sklearn.metrics import accuracy_score\n",
    "from sklearn.model_selection import cross_val_score, GridSearchCV , cross_val_predict\n",
    "from sklearn.ensemble import RandomForestRegressor\n",
    "from sklearn.preprocessing import MinMaxScaler\n",
    "import matplotlib.pyplot as plt"
   ]
  },
  {
   "cell_type": "code",
   "execution_count": 3,
   "metadata": {},
   "outputs": [],
   "source": [
    "#functions\n",
    "\n",
    "def change_colnames(cols,df):\n",
    "    df.columns = cols\n",
    "    return df\n",
    "\n",
    "def conv_int(df,col_name):\n",
    "    myl = []\n",
    "    for i in range(len(df[col_name])):\n",
    "        if df[col_name][i] == 'Low':\n",
    "            myl.append(0)\n",
    "        elif df[col_name][i] == 'Medium':\n",
    "            myl.append(1)\n",
    "        \n",
    "        else:\n",
    "            myl.append(2)\n",
    "    df.drop(col_name,axis=1)\n",
    "    df[col_name] = myl\n",
    "    return df\n",
    "            \n",
    "def change_astype(df,columns,dtype):\n",
    "    dicti = {}\n",
    "    for i in range(len(columns)):\n",
    "        dicti[columns[i]] = dtype[i]\n",
    "    print(dicti)\n",
    "    df = df.astype(dicti)\n",
    "    return df\n",
    "\n",
    "def convdots(df,column):\n",
    "    myl = []\n",
    "    for i in range(len(df[column])):\n",
    "        if df[column][i] == '.':\n",
    "            \n",
    "            myl.append(1)\n",
    "        else:\n",
    "            myl.append(df[column][i])\n",
    "    df[column] = pd.DataFrame(myl)\n",
    "    return df\n",
    "\n",
    "def fillingna(df,cols):\n",
    "    for col in cols:\n",
    "        df[col] = df[col].fillna(df[col].mean())\n",
    "    return df\n",
    "\n",
    "def fillingna2(df,cols):\n",
    "    for col in cols:\n",
    "        df[col] = df[col].fillna(df[col].mode()[0])\n",
    "    return df  \n",
    "\n",
    "def rfr_model(X, y):# Perform Grid-Search\n",
    "    gsc = GridSearchCV(\n",
    "        estimator=RandomForestRegressor(),\n",
    "        param_grid={\n",
    "            'max_depth': range(3,7),\n",
    "            'n_estimators': (4,10,50),\n",
    "        },\n",
    "        cv=5, scoring='neg_mean_squared_error', verbose=0,                         n_jobs=-1)\n",
    "    \n",
    "    grid_result = gsc.fit(X, y)\n",
    "    best_params = grid_result.best_params_\n",
    "    \n",
    "    return scores,predictions,best_params\n",
    "\n",
    "    \n",
    "\n",
    "\n",
    "def RF_impute(df,target,rest):\n",
    "    list_of_missin = df[df[colname].isna()].index.tolist()\n",
    "    len(list_of_missin)\n",
    "    rf1 = df.loc[~df[colname].isin([np.nan])][rest] \n",
    "    train_x, test_x, train_y, test_y = train_test_split(rf1[rest], rf1[target],\n",
    "                                                        train_size=0.8,random_state=1)\n",
    "    \n",
    "    scores,predictions,bp = rfr_model(train_x,train_y)\n",
    "    regressor = RandomForestRegressor(n_estimators = bp['n_estimators'],max_depth=bp['max_depth'], random_state = 0)\n",
    "    regressor.fit(train_x, train_y)\n",
    "    y_pred = regressor.predict(test_x)\n",
    "    plt.scatter(y_pred,test_y)\n",
    "    rf1_p = df.loc[df[target].isin([np.nan])][rest] \n",
    "    pred1 = regressor.predict(rf1_p.values)\n",
    "    \n",
    "def XGB_impute(df,target,rest):\n",
    "    list_of_missin = df[df[colname].isna()].index.tolist()\n",
    "    len(list_of_missin)\n",
    "    xgb1 = df.loc[~df[colname].isin([np.nan])][rest] \n",
    "    train_x, test_x, train_y, test_y = train_test_split(xgb1[rest], xgb1[target],\n",
    "                                                        train_size=0.8,random_state=1)\n",
    "    \n",
    "    scores,predictions,bp = rfr_model(train_x,train_y)\n",
    "    model = xgb.XGBClassifier()\n",
    "    model.fit(train_x, train_y)\n",
    "    y_pred = model.predict(test_x)\n",
    "    plt.scatter(y_pred,test_y)\n",
    "    rf1_p = df.loc[df[target].isin([np.nan])][rest] \n",
    "    pred1 = model.predict(rf1_p.values)"
   ]
  },
  {
   "cell_type": "code",
   "execution_count": 4,
   "metadata": {},
   "outputs": [],
   "source": [
    "col_names = [ 'ID','FICO','Business Revenue','TSR','Last 6M Avg Util','Income','Last 6M Avg Remit','Last 6M Avg Bal','Internal Revolve','Lending AR% in last 6M',\n",
    "'ExternalBalance',\n",
    "'Months in Business',\n",
    "'preferred_spend_line',\n",
    "'total_cards',\n",
    "'preferred_bal_line',\n",
    "'preavgremit1_3_all',\n",
    "'External_rev_rate',\n",
    "'Supplementary Cards',\n",
    "'isChargeCust',\n",
    "'CMV',\n",
    "'Assigned Line']\n",
    "\n",
    "col_names_cont = ['FICO','Business Revenue','TSR','Last 6M Avg Util','Income','Last 6M Avg Remit',\n",
    "                  'Last 6M Avg Bal','Internal Revolve','Lending AR% in last 6M','ExternalBalance','preferred_bal_line',\n",
    "                 'Months in Business','preferred_spend_line','preavgremit1_3_all','CMV','External_rev_rate']\n",
    "col_names_cat = ['Supplementary Cards','isChargeCust','Assigned Line','total_cards']"
   ]
  },
  {
   "cell_type": "code",
   "execution_count": 5,
   "metadata": {},
   "outputs": [
    {
     "name": "stdout",
     "output_type": "stream",
     "text": [
      "{'Assigned Line': 'int64', 'total_cards': 'int64'}\n"
     ]
    }
   ],
   "source": [
    "train_raw = pd.read_csv('development_dataset.csv')\n",
    "train_1 = change_colnames(col_names,train_raw)\n",
    "train_1 = convdots(train_1,'total_cards')\n",
    "train_1 = conv_int(train_1,'Assigned Line')\n",
    "train_1_new = change_astype(train_1,['Assigned Line','total_cards'],['int64','int64'])\n",
    "train_1_mean = fillingna(train_1_new,col_names_cont)\n",
    "train_1_mean = fillingna2(train_1_mean,col_names_cat)"
   ]
  },
  {
   "cell_type": "code",
   "execution_count": 6,
   "metadata": {},
   "outputs": [],
   "source": [
    "#Removing TSR ,Internal Revolve , External_rev_rate - too many missing values\n",
    "train_2 = train_1_mean.drop(['TSR','Internal Revolve','External_rev_rate','ID'], axis=1)"
   ]
  },
  {
   "cell_type": "code",
   "execution_count": 7,
   "metadata": {},
   "outputs": [],
   "source": [
    "#Average amount paid towards card bills in the last 3 months\n",
    "train_3 = train_2.drop('Last 6M Avg Remit',axis=1)\n",
    "\n",
    "#The other one is avg for 6M - which one to drop"
   ]
  },
  {
   "cell_type": "code",
   "execution_count": 8,
   "metadata": {},
   "outputs": [],
   "source": [
    "train_raw = pd.read_csv('MoreLikeGods_IITKGP_final.csv')"
   ]
  },
  {
   "cell_type": "code",
   "execution_count": null,
   "metadata": {},
   "outputs": [],
   "source": []
  }
 ],
 "metadata": {
  "kernelspec": {
   "display_name": "Python 3",
   "language": "python",
   "name": "python3"
  },
  "language_info": {
   "codemirror_mode": {
    "name": "ipython",
    "version": 3
   },
   "file_extension": ".py",
   "mimetype": "text/x-python",
   "name": "python",
   "nbconvert_exporter": "python",
   "pygments_lexer": "ipython3",
   "version": "3.7.3"
  }
 },
 "nbformat": 4,
 "nbformat_minor": 2
}
